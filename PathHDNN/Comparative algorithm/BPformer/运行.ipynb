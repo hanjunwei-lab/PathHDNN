{
 "cells": [
  {
   "cell_type": "code",
   "execution_count": 192,
   "metadata": {},
   "outputs": [
    {
     "name": "stdout",
     "output_type": "stream",
     "text": [
      "xun.csv\n",
      "原始样本数量: 31\n",
      "删除样本数量: 3\n",
      "剩余样本数量: 28\n",
      "删除的样本索引: ['Pat45' 'Pat41' 'Pat33']\n",
      "(28, 22955)\n",
      "处理完成！已随机删除10%的样本\n"
     ]
    }
   ],
   "source": [
    "import pandas as pd\n",
    "import numpy as np\n",
    "\n",
    "base_path = 'data(li)delete10/'\n",
    "new_path = 'data(li)delete10/'\n",
    "# 将 filelist 替换为 exp.csv\n",
    "filename = 'xun.csv'\n",
    "\n",
    "# 设置随机种子以确保结果可重现\n",
    "np.random.seed(435)\n",
    "\n",
    "# 读取原始数据\n",
    "print(filename)\n",
    "data_RNA = pd.read_csv(base_path + filename, index_col=0)  # 使用 read_csv 读取 CSV 文件\n",
    "\n",
    "# 随机删除10%的样本\n",
    "print(f\"原始样本数量: {len(data_RNA)}\")\n",
    "sample_indices = data_RNA.index.tolist()\n",
    "delete_count = int(len(sample_indices) * 0.1)  # 计算要删除的样本数量\n",
    "\n",
    "# 随机选择要删除的样本索引\n",
    "indices_to_delete = np.random.choice(sample_indices, size=delete_count, replace=False)\n",
    "data_RNA_filtered = data_RNA.drop(indices_to_delete)\n",
    "\n",
    "print(f\"删除样本数量: {delete_count}\")\n",
    "print(f\"剩余样本数量: {len(data_RNA_filtered)}\")\n",
    "print(f\"删除的样本索引: {indices_to_delete}\")\n",
    "\n",
    "# 读取KEGG通路信息\n",
    "KEGG_info = pd.read_csv(\"训练/KEGG_Pathway_information.csv\", header=0)\n",
    "\n",
    "all_gene_list = []\n",
    "for gene_set in KEGG_info['gene_name']:\n",
    "    all_gene_list.extend(gene_set.split(\"/\"))\n",
    "\n",
    "# 处理KEGG基因数据\n",
    "KEGG_data_dict = dict()\n",
    "gene_num = 1\n",
    "for gene in all_gene_list:\n",
    "    if gene in data_RNA_filtered.columns:  # 使用过滤后的数据\n",
    "        KEGG_data_dict['gene' + str(gene_num)] = data_RNA_filtered[gene]\n",
    "        gene_num += 1\n",
    "\n",
    "# 添加标签列\n",
    "KEGG_data_dict['label'] = data_RNA_filtered['label']  # 使用过滤后的数据\n",
    "\n",
    "# 创建新的DataFrame并保存\n",
    "data_KEGG = pd.DataFrame(KEGG_data_dict)\n",
    "print(data_KEGG.shape)\n",
    "data_KEGG.to_pickle(new_path + filename.replace('.csv', '_filtered.pkl'))  # 修改文件名以区分\n",
    "\n",
    "print(\"处理完成！已随机删除10%的样本\")"
   ]
  },
  {
   "cell_type": "code",
   "execution_count": 193,
   "metadata": {},
   "outputs": [
    {
     "name": "stdout",
     "output_type": "stream",
     "text": [
      "删除10%样本后的数据信息:\n",
      "数据形状: (28, 22955)\n",
      "标签分布:\n",
      "Counter({0: 22, 1: 6})\n",
      "总样本数: 28\n",
      "标签编码映射: {0: 0, 1: 1}\n",
      "样本数量较少(28)，使用3折交叉验证\n",
      "****************************** 0 ******************************\n",
      "训练集大小: 18, 验证集大小: 10\n",
      "--------------------------------------------------\n",
      "epoch: 0 K: 0\n",
      "train: 18\n"
     ]
    },
    {
     "name": "stderr",
     "output_type": "stream",
     "text": [
      "Epoch 1/20: 100%|██████████████████████| 1/1 [00:02<00:00,  2.53s/it, Loss=1.12]\n"
     ]
    },
    {
     "name": "stdout",
     "output_type": "stream",
     "text": [
      "test: 10\n",
      "epoch: 0, train loss: 0.06241520, val loss: 0.06501075, train acc: 0.2222, val acc: 0.8000\n",
      "--------------------------------------------------\n",
      "epoch: 1 K: 0\n",
      "train: 18\n"
     ]
    },
    {
     "name": "stderr",
     "output_type": "stream",
     "text": [
      "Epoch 2/20: 100%|███████████████████████| 1/1 [00:02<00:00,  2.48s/it, Loss=0.7]\n"
     ]
    },
    {
     "name": "stdout",
     "output_type": "stream",
     "text": [
      "test: 10\n",
      "epoch: 1, train loss: 0.03891335, val loss: 0.08633227, train acc: 0.7778, val acc: 0.8000\n",
      "--------------------------------------------------\n",
      "epoch: 2 K: 0\n",
      "train: 18\n"
     ]
    },
    {
     "name": "stderr",
     "output_type": "stream",
     "text": [
      "Epoch 3/20: 100%|█████████████████████| 1/1 [00:02<00:00,  2.43s/it, Loss=0.875]\n"
     ]
    },
    {
     "name": "stdout",
     "output_type": "stream",
     "text": [
      "test: 10\n",
      "epoch: 2, train loss: 0.04861688, val loss: 0.08570464, train acc: 0.7778, val acc: 0.8000\n",
      "--------------------------------------------------\n",
      "epoch: 3 K: 0\n",
      "train: 18\n"
     ]
    },
    {
     "name": "stderr",
     "output_type": "stream",
     "text": [
      "Epoch 4/20: 100%|██████████████████████| 1/1 [00:02<00:00,  2.41s/it, Loss=0.88]\n"
     ]
    },
    {
     "name": "stdout",
     "output_type": "stream",
     "text": [
      "test: 10\n",
      "epoch: 3, train loss: 0.04889399, val loss: 0.07495842, train acc: 0.7778, val acc: 0.8000\n",
      "--------------------------------------------------\n",
      "epoch: 4 K: 0\n",
      "train: 18\n"
     ]
    },
    {
     "name": "stderr",
     "output_type": "stream",
     "text": [
      "Epoch 5/20: 100%|█████████████████████| 1/1 [00:02<00:00,  2.40s/it, Loss=0.764]\n"
     ]
    },
    {
     "name": "stdout",
     "output_type": "stream",
     "text": [
      "test: 10\n",
      "epoch: 4, train loss: 0.04245041, val loss: 0.06157652, train acc: 0.7778, val acc: 0.8000\n",
      "--------------------------------------------------\n",
      "epoch: 5 K: 0\n",
      "train: 18\n"
     ]
    },
    {
     "name": "stderr",
     "output_type": "stream",
     "text": [
      "Epoch 6/20: 100%|███████████████████████| 1/1 [00:02<00:00,  2.45s/it, Loss=0.6]\n"
     ]
    },
    {
     "name": "stdout",
     "output_type": "stream",
     "text": [
      "test: 10\n",
      "epoch: 5, train loss: 0.03333426, val loss: 0.05201373, train acc: 0.7778, val acc: 0.8000\n",
      "--------------------------------------------------\n",
      "epoch: 6 K: 0\n",
      "train: 18\n"
     ]
    },
    {
     "name": "stderr",
     "output_type": "stream",
     "text": [
      "Epoch 7/20: 100%|█████████████████████| 1/1 [00:02<00:00,  2.41s/it, Loss=0.524]\n"
     ]
    },
    {
     "name": "stdout",
     "output_type": "stream",
     "text": [
      "test: 10\n",
      "epoch: 6, train loss: 0.02911040, val loss: 0.05069576, train acc: 0.7778, val acc: 0.8000\n",
      "--------------------------------------------------\n",
      "epoch: 7 K: 0\n",
      "train: 18\n"
     ]
    },
    {
     "name": "stderr",
     "output_type": "stream",
     "text": [
      "Epoch 8/20: 100%|█████████████████████| 1/1 [00:02<00:00,  2.42s/it, Loss=0.547]\n"
     ]
    },
    {
     "name": "stdout",
     "output_type": "stream",
     "text": [
      "test: 10\n",
      "epoch: 7, train loss: 0.03037920, val loss: 0.05582961, train acc: 0.7778, val acc: 0.8000\n",
      "--------------------------------------------------\n",
      "epoch: 8 K: 0\n",
      "train: 18\n"
     ]
    },
    {
     "name": "stderr",
     "output_type": "stream",
     "text": [
      "Epoch 9/20: 100%|█████████████████████| 1/1 [00:02<00:00,  2.42s/it, Loss=0.573]\n"
     ]
    },
    {
     "name": "stdout",
     "output_type": "stream",
     "text": [
      "test: 10\n",
      "epoch: 8, train loss: 0.03184729, val loss: 0.05992680, train acc: 0.7778, val acc: 0.8000\n",
      "--------------------------------------------------\n",
      "epoch: 9 K: 0\n",
      "train: 18\n"
     ]
    },
    {
     "name": "stderr",
     "output_type": "stream",
     "text": [
      "Epoch 10/20: 100%|████████████████████| 1/1 [00:02<00:00,  2.42s/it, Loss=0.582]\n"
     ]
    },
    {
     "name": "stdout",
     "output_type": "stream",
     "text": [
      "test: 10\n",
      "epoch: 9, train loss: 0.03233032, val loss: 0.05987331, train acc: 0.7778, val acc: 0.8000\n",
      "--------------------------------------------------\n",
      "epoch: 10 K: 0\n",
      "train: 18\n"
     ]
    },
    {
     "name": "stderr",
     "output_type": "stream",
     "text": [
      "Epoch 11/20: 100%|████████████████████| 1/1 [00:02<00:00,  2.47s/it, Loss=0.629]\n"
     ]
    },
    {
     "name": "stdout",
     "output_type": "stream",
     "text": [
      "test: 10\n",
      "epoch: 10, train loss: 0.03494930, val loss: 0.05688429, train acc: 0.7778, val acc: 0.8000\n",
      "--------------------------------------------------\n",
      "epoch: 11 K: 0\n",
      "train: 18\n"
     ]
    },
    {
     "name": "stderr",
     "output_type": "stream",
     "text": [
      "Epoch 12/20: 100%|████████████████████| 1/1 [00:02<00:00,  2.42s/it, Loss=0.568]\n"
     ]
    },
    {
     "name": "stdout",
     "output_type": "stream",
     "text": [
      "test: 10\n",
      "epoch: 11, train loss: 0.03155823, val loss: 0.05384642, train acc: 0.7778, val acc: 0.8000\n",
      "--------------------------------------------------\n",
      "epoch: 12 K: 0\n",
      "train: 18\n"
     ]
    },
    {
     "name": "stderr",
     "output_type": "stream",
     "text": [
      "Epoch 13/20: 100%|████████████████████| 1/1 [00:02<00:00,  2.48s/it, Loss=0.575]\n"
     ]
    },
    {
     "name": "stdout",
     "output_type": "stream",
     "text": [
      "test: 10\n",
      "epoch: 12, train loss: 0.03196268, val loss: 0.05174600, train acc: 0.7778, val acc: 0.8000\n",
      "--------------------------------------------------\n",
      "epoch: 13 K: 0\n",
      "train: 18\n"
     ]
    },
    {
     "name": "stderr",
     "output_type": "stream",
     "text": [
      "Epoch 14/20: 100%|████████████████████| 1/1 [00:02<00:00,  2.47s/it, Loss=0.547]\n"
     ]
    },
    {
     "name": "stdout",
     "output_type": "stream",
     "text": [
      "test: 10\n",
      "epoch: 13, train loss: 0.03040298, val loss: 0.05063995, train acc: 0.7778, val acc: 0.8000\n",
      "--------------------------------------------------\n",
      "epoch: 14 K: 0\n",
      "train: 18\n"
     ]
    },
    {
     "name": "stderr",
     "output_type": "stream",
     "text": [
      "Epoch 15/20: 100%|████████████████████| 1/1 [00:02<00:00,  2.54s/it, Loss=0.545]\n"
     ]
    },
    {
     "name": "stdout",
     "output_type": "stream",
     "text": [
      "test: 10\n",
      "epoch: 14, train loss: 0.03028043, val loss: 0.05021614, train acc: 0.7778, val acc: 0.8000\n",
      "--------------------------------------------------\n",
      "epoch: 15 K: 0\n",
      "train: 18\n"
     ]
    },
    {
     "name": "stderr",
     "output_type": "stream",
     "text": [
      "Epoch 16/20: 100%|████████████████████| 1/1 [00:02<00:00,  2.44s/it, Loss=0.518]\n"
     ]
    },
    {
     "name": "stdout",
     "output_type": "stream",
     "text": [
      "test: 10\n",
      "epoch: 15, train loss: 0.02878457, val loss: 0.05009903, train acc: 0.7778, val acc: 0.8000\n",
      "--------------------------------------------------\n",
      "epoch: 16 K: 0\n",
      "train: 18\n"
     ]
    },
    {
     "name": "stderr",
     "output_type": "stream",
     "text": [
      "Epoch 17/20: 100%|██████████████████████| 1/1 [00:02<00:00,  2.47s/it, Loss=0.5]\n"
     ]
    },
    {
     "name": "stdout",
     "output_type": "stream",
     "text": [
      "test: 10\n",
      "epoch: 16, train loss: 0.02778884, val loss: 0.05008959, train acc: 0.7778, val acc: 0.8000\n",
      "--------------------------------------------------\n",
      "epoch: 17 K: 0\n",
      "train: 18\n"
     ]
    },
    {
     "name": "stderr",
     "output_type": "stream",
     "text": [
      "Epoch 18/20: 100%|████████████████████| 1/1 [00:02<00:00,  2.53s/it, Loss=0.506]\n"
     ]
    },
    {
     "name": "stdout",
     "output_type": "stream",
     "text": [
      "test: 10\n",
      "epoch: 17, train loss: 0.02808441, val loss: 0.05010284, train acc: 0.7778, val acc: 0.8000\n",
      "--------------------------------------------------\n",
      "epoch: 18 K: 0\n",
      "train: 18\n"
     ]
    },
    {
     "name": "stderr",
     "output_type": "stream",
     "text": [
      "Epoch 19/20: 100%|████████████████████| 1/1 [00:02<00:00,  2.73s/it, Loss=0.525]\n"
     ]
    },
    {
     "name": "stdout",
     "output_type": "stream",
     "text": [
      "test: 10\n",
      "epoch: 18, train loss: 0.02916233, val loss: 0.05011159, train acc: 0.7778, val acc: 0.8000\n",
      "--------------------------------------------------\n",
      "epoch: 19 K: 0\n",
      "train: 18\n"
     ]
    },
    {
     "name": "stderr",
     "output_type": "stream",
     "text": [
      "Epoch 20/20: 100%|████████████████████| 1/1 [00:02<00:00,  2.48s/it, Loss=0.504]\n"
     ]
    },
    {
     "name": "stdout",
     "output_type": "stream",
     "text": [
      "test: 10\n",
      "epoch: 19, train loss: 0.02797623, val loss: 0.05011396, train acc: 0.7778, val acc: 0.8000\n",
      "train_acc_list:  [0.2222222238779068, 0.7777777910232544, 0.7777777910232544, 0.7777777910232544, 0.7777777910232544, 0.7777777910232544, 0.7777777910232544, 0.7777777910232544, 0.7777777910232544, 0.7777777910232544, 0.7777777910232544, 0.7777777910232544, 0.7777777910232544, 0.7777777910232544, 0.7777777910232544, 0.7777777910232544, 0.7777777910232544, 0.7777777910232544, 0.7777777910232544, 0.7777777910232544]\n",
      "val_acc_list:  [0.800000011920929, 0.800000011920929, 0.800000011920929, 0.800000011920929, 0.800000011920929, 0.800000011920929, 0.800000011920929, 0.800000011920929, 0.800000011920929, 0.800000011920929, 0.800000011920929, 0.800000011920929, 0.800000011920929, 0.800000011920929, 0.800000011920929, 0.800000011920929, 0.800000011920929, 0.800000011920929, 0.800000011920929, 0.800000011920929]\n",
      "train_loss_list:  [0.06241520245869955, 0.038913345999187894, 0.048616876204808555, 0.048893994755215116, 0.042450414763556585, 0.03333425521850586, 0.02911039524608188, 0.030379196008046467, 0.03184728821118673, 0.032330324252446495, 0.03494929936197069, 0.03155822886361016, 0.03196267949210273, 0.030402981572681002, 0.0302804344230228, 0.02878456645541721, 0.027788837750752766, 0.028084410561455622, 0.029162334071265325, 0.027976234753926594]\n",
      "val_loss_list:  [0.06501075029373168, 0.08633227348327636, 0.08570464253425598, 0.07495841979980469, 0.061576515436172485, 0.052013731002807616, 0.050695759057998654, 0.05582960844039917, 0.059926801919937135, 0.05987330675125122, 0.05688429474830627, 0.05384642481803894, 0.05174599885940552, 0.05063995122909546, 0.050216144323349, 0.05009902715682983, 0.050089585781097415, 0.050102841854095456, 0.05011158585548401, 0.05011395812034607]\n",
      "****************************** 1 ******************************\n",
      "训练集大小: 19, 验证集大小: 9\n",
      "--------------------------------------------------\n",
      "epoch: 0 K: 1\n",
      "train: 19\n"
     ]
    },
    {
     "name": "stderr",
     "output_type": "stream",
     "text": [
      "Epoch 1/20: 100%|█████████████████████| 1/1 [00:02<00:00,  2.63s/it, Loss=0.937]\n"
     ]
    },
    {
     "name": "stdout",
     "output_type": "stream",
     "text": [
      "test: 9\n",
      "epoch: 0, train loss: 0.04929189, val loss: 0.08951305, train acc: 0.1579, val acc: 0.7778\n",
      "--------------------------------------------------\n",
      "epoch: 1 K: 1\n",
      "train: 19\n"
     ]
    },
    {
     "name": "stderr",
     "output_type": "stream",
     "text": [
      "Epoch 2/20: 100%|█████████████████████| 1/1 [00:02<00:00,  2.57s/it, Loss=0.711]\n"
     ]
    },
    {
     "name": "stdout",
     "output_type": "stream",
     "text": [
      "test: 9\n",
      "epoch: 1, train loss: 0.03740970, val loss: 0.11432530, train acc: 0.7895, val acc: 0.7778\n",
      "--------------------------------------------------\n",
      "epoch: 2 K: 1\n",
      "train: 19\n"
     ]
    },
    {
     "name": "stderr",
     "output_type": "stream",
     "text": [
      "Epoch 3/20: 100%|█████████████████████| 1/1 [00:02<00:00,  2.58s/it, Loss=0.872]\n"
     ]
    },
    {
     "name": "stdout",
     "output_type": "stream",
     "text": [
      "test: 9\n",
      "epoch: 2, train loss: 0.04588064, val loss: 0.10996813, train acc: 0.7895, val acc: 0.7778\n",
      "--------------------------------------------------\n",
      "epoch: 3 K: 1\n",
      "train: 19\n"
     ]
    },
    {
     "name": "stderr",
     "output_type": "stream",
     "text": [
      "Epoch 4/20: 100%|█████████████████████| 1/1 [00:02<00:00,  2.59s/it, Loss=0.845]\n"
     ]
    },
    {
     "name": "stdout",
     "output_type": "stream",
     "text": [
      "test: 9\n",
      "epoch: 3, train loss: 0.04444985, val loss: 0.09361757, train acc: 0.7895, val acc: 0.7778\n",
      "--------------------------------------------------\n",
      "epoch: 4 K: 1\n",
      "train: 19\n"
     ]
    },
    {
     "name": "stderr",
     "output_type": "stream",
     "text": [
      "Epoch 5/20: 100%|██████████████████████| 1/1 [00:02<00:00,  2.63s/it, Loss=0.72]\n"
     ]
    },
    {
     "name": "stdout",
     "output_type": "stream",
     "text": [
      "test: 9\n",
      "epoch: 4, train loss: 0.03788873, val loss: 0.07481890, train acc: 0.7895, val acc: 0.7778\n",
      "--------------------------------------------------\n",
      "epoch: 5 K: 1\n",
      "train: 19\n"
     ]
    },
    {
     "name": "stderr",
     "output_type": "stream",
     "text": [
      "Epoch 6/20: 100%|█████████████████████| 1/1 [00:02<00:00,  2.57s/it, Loss=0.574]\n"
     ]
    },
    {
     "name": "stdout",
     "output_type": "stream",
     "text": [
      "test: 9\n",
      "epoch: 5, train loss: 0.03022000, val loss: 0.06156026, train acc: 0.7895, val acc: 0.7778\n",
      "--------------------------------------------------\n",
      "epoch: 6 K: 1\n",
      "train: 19\n"
     ]
    },
    {
     "name": "stderr",
     "output_type": "stream",
     "text": [
      "Epoch 7/20: 100%|█████████████████████| 1/1 [00:02<00:00,  2.57s/it, Loss=0.546]\n"
     ]
    },
    {
     "name": "stdout",
     "output_type": "stream",
     "text": [
      "test: 9\n",
      "epoch: 6, train loss: 0.02873746, val loss: 0.05918509, train acc: 0.7895, val acc: 0.7778\n",
      "--------------------------------------------------\n",
      "epoch: 7 K: 1\n",
      "train: 19\n"
     ]
    },
    {
     "name": "stderr",
     "output_type": "stream",
     "text": [
      "Epoch 8/20: 100%|█████████████████████| 1/1 [00:02<00:00,  2.56s/it, Loss=0.507]\n"
     ]
    },
    {
     "name": "stdout",
     "output_type": "stream",
     "text": [
      "test: 9\n",
      "epoch: 7, train loss: 0.02670148, val loss: 0.06389345, train acc: 0.7895, val acc: 0.7778\n",
      "--------------------------------------------------\n",
      "epoch: 8 K: 1\n",
      "train: 19\n"
     ]
    },
    {
     "name": "stderr",
     "output_type": "stream",
     "text": [
      "Epoch 9/20: 100%|█████████████████████| 1/1 [00:02<00:00,  2.56s/it, Loss=0.587]\n"
     ]
    },
    {
     "name": "stdout",
     "output_type": "stream",
     "text": [
      "test: 9\n",
      "epoch: 8, train loss: 0.03091865, val loss: 0.06658487, train acc: 0.7368, val acc: 0.7778\n",
      "--------------------------------------------------\n",
      "epoch: 9 K: 1\n",
      "train: 19\n"
     ]
    },
    {
     "name": "stderr",
     "output_type": "stream",
     "text": [
      "Epoch 10/20: 100%|████████████████████| 1/1 [00:02<00:00,  2.56s/it, Loss=0.575]\n"
     ]
    },
    {
     "name": "stdout",
     "output_type": "stream",
     "text": [
      "test: 9\n",
      "epoch: 9, train loss: 0.03026914, val loss: 0.06564096, train acc: 0.7895, val acc: 0.7778\n",
      "--------------------------------------------------\n",
      "epoch: 10 K: 1\n",
      "train: 19\n"
     ]
    },
    {
     "name": "stderr",
     "output_type": "stream",
     "text": [
      "Epoch 11/20: 100%|████████████████████| 1/1 [00:02<00:00,  2.55s/it, Loss=0.593]\n"
     ]
    },
    {
     "name": "stdout",
     "output_type": "stream",
     "text": [
      "test: 9\n",
      "epoch: 10, train loss: 0.03123281, val loss: 0.06271389, train acc: 0.7895, val acc: 0.7778\n",
      "--------------------------------------------------\n",
      "epoch: 11 K: 1\n",
      "train: 19\n"
     ]
    },
    {
     "name": "stderr",
     "output_type": "stream",
     "text": [
      "Epoch 12/20: 100%|████████████████████| 1/1 [00:02<00:00,  2.56s/it, Loss=0.535]\n"
     ]
    },
    {
     "name": "stdout",
     "output_type": "stream",
     "text": [
      "test: 9\n",
      "epoch: 11, train loss: 0.02814836, val loss: 0.06029312, train acc: 0.7895, val acc: 0.7778\n",
      "--------------------------------------------------\n",
      "epoch: 12 K: 1\n",
      "train: 19\n"
     ]
    },
    {
     "name": "stderr",
     "output_type": "stream",
     "text": [
      "Epoch 13/20: 100%|████████████████████| 1/1 [00:02<00:00,  2.63s/it, Loss=0.505]\n"
     ]
    },
    {
     "name": "stdout",
     "output_type": "stream",
     "text": [
      "test: 9\n",
      "epoch: 12, train loss: 0.02656443, val loss: 0.05907636, train acc: 0.7895, val acc: 0.7778\n",
      "--------------------------------------------------\n",
      "epoch: 13 K: 1\n",
      "train: 19\n"
     ]
    },
    {
     "name": "stderr",
     "output_type": "stream",
     "text": [
      "Epoch 14/20: 100%|████████████████████| 1/1 [00:02<00:00,  2.61s/it, Loss=0.516]\n"
     ]
    },
    {
     "name": "stdout",
     "output_type": "stream",
     "text": [
      "test: 9\n",
      "epoch: 13, train loss: 0.02715090, val loss: 0.05877008, train acc: 0.7895, val acc: 0.7778\n",
      "--------------------------------------------------\n",
      "epoch: 14 K: 1\n",
      "train: 19\n"
     ]
    },
    {
     "name": "stderr",
     "output_type": "stream",
     "text": [
      "Epoch 15/20: 100%|████████████████████| 1/1 [00:02<00:00,  2.83s/it, Loss=0.489]\n"
     ]
    },
    {
     "name": "stdout",
     "output_type": "stream",
     "text": [
      "test: 9\n",
      "epoch: 14, train loss: 0.02573891, val loss: 0.05889881, train acc: 0.7895, val acc: 0.7778\n",
      "--------------------------------------------------\n",
      "epoch: 15 K: 1\n",
      "train: 19\n"
     ]
    },
    {
     "name": "stderr",
     "output_type": "stream",
     "text": [
      "Epoch 16/20: 100%|████████████████████| 1/1 [00:03<00:00,  3.88s/it, Loss=0.518]\n"
     ]
    },
    {
     "name": "stdout",
     "output_type": "stream",
     "text": [
      "test: 9\n",
      "epoch: 15, train loss: 0.02727331, val loss: 0.05913617, train acc: 0.7895, val acc: 0.7778\n",
      "--------------------------------------------------\n",
      "epoch: 16 K: 1\n",
      "train: 19\n"
     ]
    },
    {
     "name": "stderr",
     "output_type": "stream",
     "text": [
      "Epoch 17/20: 100%|████████████████████| 1/1 [00:03<00:00,  3.84s/it, Loss=0.503]\n"
     ]
    },
    {
     "name": "stdout",
     "output_type": "stream",
     "text": [
      "test: 9\n",
      "epoch: 16, train loss: 0.02647754, val loss: 0.05933411, train acc: 0.7895, val acc: 0.7778\n",
      "--------------------------------------------------\n",
      "epoch: 17 K: 1\n",
      "train: 19\n"
     ]
    },
    {
     "name": "stderr",
     "output_type": "stream",
     "text": [
      "Epoch 18/20: 100%|████████████████████| 1/1 [00:04<00:00,  4.01s/it, Loss=0.525]\n"
     ]
    },
    {
     "name": "stdout",
     "output_type": "stream",
     "text": [
      "test: 9\n",
      "epoch: 17, train loss: 0.02762213, val loss: 0.05944723, train acc: 0.7895, val acc: 0.7778\n",
      "--------------------------------------------------\n",
      "epoch: 18 K: 1\n",
      "train: 19\n"
     ]
    },
    {
     "name": "stderr",
     "output_type": "stream",
     "text": [
      "Epoch 19/20: 100%|████████████████████| 1/1 [00:03<00:00,  3.98s/it, Loss=0.515]\n"
     ]
    },
    {
     "name": "stdout",
     "output_type": "stream",
     "text": [
      "test: 9\n",
      "epoch: 18, train loss: 0.02711446, val loss: 0.05949637, train acc: 0.7895, val acc: 0.7778\n",
      "--------------------------------------------------\n",
      "epoch: 19 K: 1\n",
      "train: 19\n"
     ]
    },
    {
     "name": "stderr",
     "output_type": "stream",
     "text": [
      "Epoch 20/20: 100%|████████████████████| 1/1 [00:04<00:00,  4.15s/it, Loss=0.441]\n"
     ]
    },
    {
     "name": "stdout",
     "output_type": "stream",
     "text": [
      "test: 9\n",
      "epoch: 19, train loss: 0.02320063, val loss: 0.05950745, train acc: 0.7895, val acc: 0.7778\n",
      "train_acc_list:  [0.15789473056793213, 0.7894737124443054, 0.7894737124443054, 0.7894737124443054, 0.7894737124443054, 0.7894737124443054, 0.7894737124443054, 0.7894737124443054, 0.7368420958518982, 0.7894737124443054, 0.7894737124443054, 0.7894737124443054, 0.7894737124443054, 0.7894737124443054, 0.7894737124443054, 0.7894737124443054, 0.7894737124443054, 0.7894737124443054, 0.7894737124443054, 0.7894737124443054]\n",
      "val_acc_list:  [0.7777777910232544, 0.7777777910232544, 0.7777777910232544, 0.7777777910232544, 0.7777777910232544, 0.7777777910232544, 0.7777777910232544, 0.7777777910232544, 0.7777777910232544, 0.7777777910232544, 0.7777777910232544, 0.7777777910232544, 0.7777777910232544, 0.7777777910232544, 0.7777777910232544, 0.7777777910232544, 0.7777777910232544, 0.7777777910232544, 0.7777777910232544, 0.7777777910232544]\n",
      "train_loss_list:  [0.04929188991847791, 0.037409700845417226, 0.045880637670818125, 0.04444984699550428, 0.03788873082713077, 0.030220003504502147, 0.028737460312090422, 0.02670148485585263, 0.030918645231347335, 0.03026913655431647, 0.031232805628525585, 0.028148356236909564, 0.026564431817908036, 0.02715089760328594, 0.025738912193398727, 0.027273312995308323, 0.02647753765708522, 0.027622125650707045, 0.027114460342808774, 0.023200634278749164]\n",
      "val_loss_list:  [0.08951305018530951, 0.11432529820336236, 0.10996812582015991, 0.09361756510204738, 0.0748189025455051, 0.06156025992499457, 0.05918509430355496, 0.0638934506310357, 0.06658487187491523, 0.06564095947477552, 0.06271388795640734, 0.060293118158976235, 0.05907635556326972, 0.05877008040746053, 0.05889881319469876, 0.05913616551293267, 0.059334105915493436, 0.05944722890853882, 0.05949636962678698, 0.05950744946797689]\n",
      "****************************** 2 ******************************\n",
      "训练集大小: 19, 验证集大小: 9\n",
      "--------------------------------------------------\n",
      "epoch: 0 K: 2\n",
      "train: 19\n"
     ]
    },
    {
     "name": "stderr",
     "output_type": "stream",
     "text": [
      "Epoch 1/20: 100%|██████████████████████| 1/1 [00:04<00:00,  4.09s/it, Loss=0.87]\n"
     ]
    },
    {
     "name": "stdout",
     "output_type": "stream",
     "text": [
      "test: 9\n",
      "epoch: 0, train loss: 0.04581349, val loss: 0.10186598, train acc: 0.2105, val acc: 0.7778\n",
      "--------------------------------------------------\n",
      "epoch: 1 K: 2\n",
      "train: 19\n"
     ]
    },
    {
     "name": "stderr",
     "output_type": "stream",
     "text": [
      "Epoch 2/20: 100%|█████████████████████| 1/1 [00:03<00:00,  3.97s/it, Loss=0.724]\n"
     ]
    },
    {
     "name": "stdout",
     "output_type": "stream",
     "text": [
      "test: 9\n",
      "epoch: 1, train loss: 0.03811570, val loss: 0.12264294, train acc: 0.7895, val acc: 0.7778\n",
      "--------------------------------------------------\n",
      "epoch: 2 K: 2\n",
      "train: 19\n"
     ]
    },
    {
     "name": "stderr",
     "output_type": "stream",
     "text": [
      "Epoch 3/20: 100%|█████████████████████| 1/1 [00:03<00:00,  3.94s/it, Loss=0.924]\n"
     ]
    },
    {
     "name": "stdout",
     "output_type": "stream",
     "text": [
      "test: 9\n",
      "epoch: 2, train loss: 0.04862968, val loss: 0.11251728, train acc: 0.7895, val acc: 0.7778\n",
      "--------------------------------------------------\n",
      "epoch: 3 K: 2\n",
      "train: 19\n"
     ]
    },
    {
     "name": "stderr",
     "output_type": "stream",
     "text": [
      "Epoch 4/20: 100%|█████████████████████| 1/1 [00:03<00:00,  3.97s/it, Loss=0.847]\n"
     ]
    },
    {
     "name": "stdout",
     "output_type": "stream",
     "text": [
      "test: 9\n",
      "epoch: 3, train loss: 0.04455372, val loss: 0.09141522, train acc: 0.7895, val acc: 0.7778\n",
      "--------------------------------------------------\n",
      "epoch: 4 K: 2\n",
      "train: 19\n"
     ]
    },
    {
     "name": "stderr",
     "output_type": "stream",
     "text": [
      "Epoch 5/20: 100%|█████████████████████| 1/1 [00:03<00:00,  3.83s/it, Loss=0.713]\n"
     ]
    },
    {
     "name": "stdout",
     "output_type": "stream",
     "text": [
      "test: 9\n",
      "epoch: 4, train loss: 0.03752793, val loss: 0.07006720, train acc: 0.7895, val acc: 0.7778\n",
      "--------------------------------------------------\n",
      "epoch: 5 K: 2\n",
      "train: 19\n"
     ]
    },
    {
     "name": "stderr",
     "output_type": "stream",
     "text": [
      "Epoch 6/20: 100%|█████████████████████| 1/1 [00:03<00:00,  3.94s/it, Loss=0.548]\n"
     ]
    },
    {
     "name": "stdout",
     "output_type": "stream",
     "text": [
      "test: 9\n",
      "epoch: 5, train loss: 0.02886701, val loss: 0.05954549, train acc: 0.7895, val acc: 0.7778\n",
      "--------------------------------------------------\n",
      "epoch: 6 K: 2\n",
      "train: 19\n"
     ]
    },
    {
     "name": "stderr",
     "output_type": "stream",
     "text": [
      "Epoch 7/20: 100%|█████████████████████| 1/1 [00:03<00:00,  3.95s/it, Loss=0.481]\n"
     ]
    },
    {
     "name": "stdout",
     "output_type": "stream",
     "text": [
      "test: 9\n",
      "epoch: 6, train loss: 0.02530543, val loss: 0.06367273, train acc: 0.7895, val acc: 0.7778\n",
      "--------------------------------------------------\n",
      "epoch: 7 K: 2\n",
      "train: 19\n"
     ]
    },
    {
     "name": "stderr",
     "output_type": "stream",
     "text": [
      "Epoch 8/20: 100%|█████████████████████| 1/1 [00:04<00:00,  4.07s/it, Loss=0.564]\n"
     ]
    },
    {
     "name": "stdout",
     "output_type": "stream",
     "text": [
      "test: 9\n",
      "epoch: 7, train loss: 0.02970768, val loss: 0.06915338, train acc: 0.7895, val acc: 0.7778\n",
      "--------------------------------------------------\n",
      "epoch: 8 K: 2\n",
      "train: 19\n"
     ]
    },
    {
     "name": "stderr",
     "output_type": "stream",
     "text": [
      "Epoch 9/20: 100%|█████████████████████| 1/1 [00:04<00:00,  4.04s/it, Loss=0.657]\n"
     ]
    },
    {
     "name": "stdout",
     "output_type": "stream",
     "text": [
      "test: 9\n",
      "epoch: 8, train loss: 0.03459511, val loss: 0.06749477, train acc: 0.7895, val acc: 0.7778\n",
      "--------------------------------------------------\n",
      "epoch: 9 K: 2\n",
      "train: 19\n"
     ]
    },
    {
     "name": "stderr",
     "output_type": "stream",
     "text": [
      "Epoch 10/20: 100%|██████████████████████| 1/1 [00:04<00:00,  4.07s/it, Loss=0.6]\n"
     ]
    },
    {
     "name": "stdout",
     "output_type": "stream",
     "text": [
      "test: 9\n",
      "epoch: 9, train loss: 0.03158896, val loss: 0.06324740, train acc: 0.7368, val acc: 0.7778\n",
      "--------------------------------------------------\n",
      "epoch: 10 K: 2\n",
      "train: 19\n"
     ]
    },
    {
     "name": "stderr",
     "output_type": "stream",
     "text": [
      "Epoch 11/20: 100%|████████████████████| 1/1 [00:04<00:00,  4.23s/it, Loss=0.533]\n"
     ]
    },
    {
     "name": "stdout",
     "output_type": "stream",
     "text": [
      "test: 9\n",
      "epoch: 10, train loss: 0.02806241, val loss: 0.06047488, train acc: 0.7895, val acc: 0.7778\n",
      "--------------------------------------------------\n",
      "epoch: 11 K: 2\n",
      "train: 19\n"
     ]
    },
    {
     "name": "stderr",
     "output_type": "stream",
     "text": [
      "Epoch 12/20: 100%|████████████████████| 1/1 [00:04<00:00,  4.05s/it, Loss=0.483]\n"
     ]
    },
    {
     "name": "stdout",
     "output_type": "stream",
     "text": [
      "test: 9\n",
      "epoch: 11, train loss: 0.02542838, val loss: 0.05970088, train acc: 0.7895, val acc: 0.7778\n",
      "--------------------------------------------------\n",
      "epoch: 12 K: 2\n",
      "train: 19\n"
     ]
    },
    {
     "name": "stderr",
     "output_type": "stream",
     "text": [
      "Epoch 13/20: 100%|█████████████████████| 1/1 [00:04<00:00,  4.10s/it, Loss=0.55]\n"
     ]
    },
    {
     "name": "stdout",
     "output_type": "stream",
     "text": [
      "test: 9\n",
      "epoch: 12, train loss: 0.02895878, val loss: 0.06017155, train acc: 0.7895, val acc: 0.7778\n",
      "--------------------------------------------------\n",
      "epoch: 13 K: 2\n",
      "train: 19\n"
     ]
    },
    {
     "name": "stderr",
     "output_type": "stream",
     "text": [
      "Epoch 14/20: 100%|████████████████████| 1/1 [00:04<00:00,  4.17s/it, Loss=0.529]\n"
     ]
    },
    {
     "name": "stdout",
     "output_type": "stream",
     "text": [
      "test: 9\n",
      "epoch: 13, train loss: 0.02782485, val loss: 0.06105840, train acc: 0.7895, val acc: 0.7778\n",
      "--------------------------------------------------\n",
      "epoch: 14 K: 2\n",
      "train: 19\n"
     ]
    },
    {
     "name": "stderr",
     "output_type": "stream",
     "text": [
      "Epoch 15/20: 100%|████████████████████| 1/1 [00:04<00:00,  4.10s/it, Loss=0.525]\n"
     ]
    },
    {
     "name": "stdout",
     "output_type": "stream",
     "text": [
      "test: 9\n",
      "epoch: 14, train loss: 0.02761267, val loss: 0.06182508, train acc: 0.7895, val acc: 0.7778\n",
      "--------------------------------------------------\n",
      "epoch: 15 K: 2\n",
      "train: 19\n"
     ]
    },
    {
     "name": "stderr",
     "output_type": "stream",
     "text": [
      "Epoch 16/20: 100%|█████████████████████| 1/1 [00:04<00:00,  4.14s/it, Loss=0.54]\n"
     ]
    },
    {
     "name": "stdout",
     "output_type": "stream",
     "text": [
      "test: 9\n",
      "epoch: 15, train loss: 0.02842503, val loss: 0.06229914, train acc: 0.7895, val acc: 0.7778\n",
      "--------------------------------------------------\n",
      "epoch: 16 K: 2\n",
      "train: 19\n"
     ]
    },
    {
     "name": "stderr",
     "output_type": "stream",
     "text": [
      "Epoch 17/20: 100%|████████████████████| 1/1 [00:04<00:00,  4.13s/it, Loss=0.485]\n"
     ]
    },
    {
     "name": "stdout",
     "output_type": "stream",
     "text": [
      "test: 9\n",
      "epoch: 16, train loss: 0.02550309, val loss: 0.06253608, train acc: 0.7895, val acc: 0.7778\n",
      "--------------------------------------------------\n",
      "epoch: 17 K: 2\n",
      "train: 19\n"
     ]
    },
    {
     "name": "stderr",
     "output_type": "stream",
     "text": [
      "Epoch 18/20: 100%|████████████████████| 1/1 [00:04<00:00,  4.20s/it, Loss=0.494]\n"
     ]
    },
    {
     "name": "stdout",
     "output_type": "stream",
     "text": [
      "test: 9\n",
      "epoch: 17, train loss: 0.02602469, val loss: 0.06263081, train acc: 0.7895, val acc: 0.7778\n",
      "--------------------------------------------------\n",
      "epoch: 18 K: 2\n",
      "train: 19\n"
     ]
    },
    {
     "name": "stderr",
     "output_type": "stream",
     "text": [
      "Epoch 19/20: 100%|████████████████████| 1/1 [00:03<00:00,  3.95s/it, Loss=0.507]\n"
     ]
    },
    {
     "name": "stdout",
     "output_type": "stream",
     "text": [
      "test: 9\n",
      "epoch: 18, train loss: 0.02666600, val loss: 0.06265425, train acc: 0.7895, val acc: 0.7778\n",
      "--------------------------------------------------\n",
      "epoch: 19 K: 2\n",
      "train: 19\n"
     ]
    },
    {
     "name": "stderr",
     "output_type": "stream",
     "text": [
      "Epoch 20/20: 100%|████████████████████| 1/1 [00:04<00:00,  4.08s/it, Loss=0.529]\n"
     ]
    },
    {
     "name": "stdout",
     "output_type": "stream",
     "text": [
      "test: 9\n",
      "epoch: 19, train loss: 0.02783423, val loss: 0.06265447, train acc: 0.7895, val acc: 0.7778\n",
      "train_acc_list:  [0.21052631735801697, 0.7894737124443054, 0.7894737124443054, 0.7894737124443054, 0.7894737124443054, 0.7894737124443054, 0.7894737124443054, 0.7894737124443054, 0.7894737124443054, 0.7368420958518982, 0.7894737124443054, 0.7894737124443054, 0.7894737124443054, 0.7894737124443054, 0.7894737124443054, 0.7894737124443054, 0.7894737124443054, 0.7894737124443054, 0.7894737124443054, 0.7894737124443054]\n",
      "val_acc_list:  [0.7777777910232544, 0.7777777910232544, 0.7777777910232544, 0.7777777910232544, 0.7777777910232544, 0.7777777910232544, 0.7777777910232544, 0.7777777910232544, 0.7777777910232544, 0.7777777910232544, 0.7777777910232544, 0.7777777910232544, 0.7777777910232544, 0.7777777910232544, 0.7777777910232544, 0.7777777910232544, 0.7777777910232544, 0.7777777910232544, 0.7777777910232544, 0.7777777910232544]\n",
      "train_loss_list:  [0.045813494607021936, 0.03811570217734889, 0.04862968231502332, 0.044553715931741816, 0.037527928226872495, 0.02886701257605302, 0.025305431140096563, 0.029707679623051694, 0.03459511305156507, 0.031588959066491375, 0.02806240947623002, 0.025428375131205508, 0.02895878176940115, 0.02782484732176128, 0.02761266733470716, 0.028425025312524093, 0.02550308955343146, 0.026024688231317622, 0.0266659981326053, 0.027834230347683554]\n",
      "val_loss_list:  [0.10186598036024305, 0.12264294094509548, 0.1125172773996989, 0.09141521983676487, 0.07006720039579603, 0.0595454904768202, 0.06367272800869411, 0.06915337509579128, 0.0674947698911031, 0.06324740250905354, 0.06047487921184964, 0.059700879785749644, 0.060171551174587674, 0.06105839543872409, 0.061825076738993325, 0.06229913896984524, 0.06253608067830403, 0.06263081232706706, 0.06265425019794041, 0.06265446874830458]\n",
      "************************************************************\n",
      "K-fold test_acc:  [0.800000011920929, 0.7777777910232544, 0.7777777910232544]\n",
      "K-fold test_f1:  [0.711111111111111, 0.6805555555555556, 0.6805555555555556]\n",
      "K-fold test_recall:  [0.8, 0.7777777777777778, 0.7777777777777778]\n",
      "K-fold test_precision:  [0.64, 0.6049382716049383, 0.6049382716049383]\n",
      "平均准确率: 0.7852 ± 0.0105\n",
      "平均F1分数: 0.6907 ± 0.0144\n"
     ]
    }
   ],
   "source": [
    "import pandas as pd\n",
    "import numpy as np\n",
    "import math\n",
    "import torch\n",
    "import torch.optim.lr_scheduler as lr_scheduler\n",
    "from sklearn.model_selection import StratifiedKFold\n",
    "from sklearn.preprocessing import LabelEncoder\n",
    "from dataset import MyDataSet\n",
    "from model import Pathway_Guided_Transformer\n",
    "from utils import train_one_epoch, train_evaluate\n",
    "from sklearn.metrics import f1_score, recall_score, precision_score\n",
    "from collections import Counter\n",
    " \n",
    "device = torch.device('cuda' if torch.cuda.is_available() else 'cpu')\n",
    "\n",
    "def get_integer_mapping(le):\n",
    "    res = {}\n",
    "    for cl in le.classes_:\n",
    "        res.update({cl:le.transform([cl])[0]})\n",
    "    return res\n",
    "\n",
    "# 修改数据路径 - 使用删除后的文件\n",
    "train_data_path = 'data(li)delete10\\\\xun_filtered.pkl'  # 修改为实际的文件名\n",
    "KEGG_result = '训练/KEGG_Pathway_information.csv'\n",
    "model_save_path = 'data(li)delete10/Model_weight/'\n",
    "\n",
    "# 读取数据\n",
    "data = pd.read_pickle(train_data_path)\n",
    "data = data.replace(np.nan, 0)\n",
    "\n",
    "# 检查删除后的数据\n",
    "print(\"删除10%样本后的数据信息:\")\n",
    "print(\"数据形状:\", data.shape)\n",
    "print(\"标签分布:\")\n",
    "print(Counter(data['label']))\n",
    "print(\"总样本数:\", len(data))\n",
    "\n",
    "x_train = data.iloc[:, :-1].values\n",
    "x_train = np.log2(x_train+1)\n",
    "y_train = data.iloc[:,-1]\n",
    "lbl = LabelEncoder()\n",
    "y_train = lbl.fit_transform(y_train)\n",
    "print(\"标签编码映射:\", get_integer_mapping(lbl))\n",
    "\n",
    "pathway_df = pd.read_csv(KEGG_result, header=0)\n",
    "pathway_num = list(pathway_df['count'])\n",
    "\n",
    "batch_size = 64\n",
    "epochs = 20\n",
    "lr, lrf = 0.0001, 0.001\n",
    "max_acc, max_f1, max_recall, max_precision = 0, 0, 0, 0\n",
    "test_acc, test_f1, test_recall, test_precision  = [], [], [], []\n",
    "\n",
    "# 根据样本数量调整折数（如果需要）\n",
    "n_samples = len(data)\n",
    "if n_samples < 50:\n",
    "    n_splits = min(3, n_samples)\n",
    "    print(f\"样本数量较少({n_samples})，使用{n_splits}折交叉验证\")\n",
    "    kfold = StratifiedKFold(n_splits=n_splits, shuffle=False)  # 移除random_state\n",
    "else:\n",
    "    kfold = StratifiedKFold(n_splits=3, shuffle=False)  # 移除random_sta\n",
    "\n",
    "KK = 0\n",
    "\n",
    "for train, val in kfold.split(x_train, y_train):\n",
    "    print('*'*30, KK, '*'*30)\n",
    "    loss_m = np.inf\n",
    "    train_data_mRNA, train_data_y_label = x_train[train,:], y_train[train]\n",
    "    val_data_mRNA, val_data_y_label = x_train[val,:], y_train[val]\n",
    "\n",
    "    print(f\"训练集大小: {len(train_data_y_label)}, 验证集大小: {len(val_data_y_label)}\")\n",
    "\n",
    "    train_data_mRNA = train_data_mRNA.reshape((train_data_mRNA.shape[0], 1, train_data_mRNA.shape[1]))\n",
    "    val_data_mRNA = val_data_mRNA.reshape((val_data_mRNA.shape[0], 1, val_data_mRNA.shape[1]))\n",
    "\n",
    "    train_data_set_KFold = MyDataSet(train_data_mRNA, train_data_y_label)\n",
    "    val_data_set_KFold = MyDataSet(val_data_mRNA, val_data_y_label)\n",
    "\n",
    "    train_loader_KFold = torch.utils.data.DataLoader(train_data_set_KFold, \n",
    "                                                   batch_size=min(batch_size, len(train_data_set_KFold)), \n",
    "                                                   shuffle=True)\n",
    "    val_loader_KFold = torch.utils.data.DataLoader(val_data_set_KFold, \n",
    "                                                 batch_size=min(batch_size, len(val_data_set_KFold)), \n",
    "                                                 shuffle=True)\n",
    "\n",
    "    model = Pathway_Guided_Transformer(\n",
    "            num_classes = len(np.unique(y_train)),  # 使用实际的类别数\n",
    "            pathway_number = pathway_num,\n",
    "            dim = 512,\n",
    "            depth = 6,\n",
    "            heads = 8,\n",
    "            mlp_dim = 1024,\n",
    "            dropout = 0.1,\n",
    "            emb_dropout = 0.1,\n",
    "        ).to(device)\n",
    "\n",
    "    optimizer = torch.optim.Adam(model.parameters(), lr=lr)\n",
    "    lf = lambda x: ((1 + math.cos(x * math.pi / epochs)) / 2) * (1 - lrf) + lrf  # cosine\n",
    "    scheduler = lr_scheduler.LambdaLR(optimizer, lr_lambda=lf)\n",
    "    criterion = torch.nn.CrossEntropyLoss()\n",
    "    train_acc_list, val_acc_list, train_loss_list, val_loss_list = [], [], [], []\n",
    "\n",
    "    for epoch in range(epochs):\n",
    "        print(\"-\"*50)\n",
    "        print(\"epoch:\", epoch, \"K:\", KK)\n",
    "        train_loss, train_acc = train_one_epoch(now_epoch=epoch, all_epoch=epochs, model=model, optimizer=optimizer, data_loader=train_loader_KFold, \n",
    "                                                num=len(train_data_set_KFold), criterion=criterion, device=device)\n",
    "        scheduler.step()\n",
    "        val_loss, val_acc, true_label, pre_label = train_evaluate(model=model, data_loader=val_loader_KFold, \n",
    "                                                                    num=len(val_data_set_KFold), criterion=criterion, device=device)\n",
    "\n",
    "        if val_loss<loss_m:\n",
    "            loss_m = val_loss\n",
    "            max_acc = val_acc\n",
    "            max_f1 = f1_score(true_label, pre_label, average='weighted')\n",
    "            max_recall = recall_score(true_label, pre_label, average='weighted')\n",
    "            max_precision = precision_score(true_label, pre_label, average='weighted', zero_division=0)\n",
    "            torch.save(model.state_dict(), model_save_path + \"weights_\" + str(KK) + \".pth\")\n",
    "\n",
    "        train_acc_list.append(train_acc.item())\n",
    "        val_acc_list.append(val_acc.item())\n",
    "        train_loss_list.append(train_loss)\n",
    "        val_loss_list.append(val_loss)\n",
    "        print(\"epoch: {}, train loss: {:.8f}, val loss: {:.8f}, train acc: {:.4f}, val acc: {:.4f}\".format(epoch, train_loss, val_loss, train_acc, val_acc))\n",
    "    \n",
    "    test_acc.append(max_acc.item())\n",
    "    test_f1.append(max_f1)\n",
    "    test_recall.append(max_recall)\n",
    "    test_precision.append(max_precision)\n",
    "    print(\"train_acc_list: \", train_acc_list)\n",
    "    print('val_acc_list: ', val_acc_list)\n",
    "    print('train_loss_list: ', train_loss_list)\n",
    "    print('val_loss_list: ', val_loss_list)\n",
    "    KK = KK+1\n",
    "\n",
    "print('*'*60)\n",
    "print(\"K-fold test_acc: \", test_acc)\n",
    "print(\"K-fold test_f1: \", test_f1)\n",
    "print(\"K-fold test_recall: \", test_recall)\n",
    "print(\"K-fold test_precision: \", test_precision)\n",
    "print(\"平均准确率: {:.4f} ± {:.4f}\".format(np.mean(test_acc), np.std(test_acc)))\n",
    "print(\"平均F1分数: {:.4f} ± {:.4f}\".format(np.mean(test_f1), np.std(test_f1)))"
   ]
  },
  {
   "cell_type": "code",
   "execution_count": 194,
   "metadata": {},
   "outputs": [],
   "source": [
    "torch.save(model.state_dict(), model_save_path + \"weights_\" + str(KK) + \".model\")\n"
   ]
  },
  {
   "cell_type": "code",
   "execution_count": 195,
   "metadata": {},
   "outputs": [
    {
     "name": "stdout",
     "output_type": "stream",
     "text": [
      "epoch: 19, train loss: 0.02783423, val loss: 0.06265447, train acc: 0.7895, val acc: 0.7778\n"
     ]
    }
   ],
   "source": [
    "print(\"epoch: {}, train loss: {:.8f}, val loss: {:.8f}, train acc: {:.4f}, val acc: {:.4f}\".format(epoch, train_loss, val_loss, train_acc, val_acc))"
   ]
  },
  {
   "cell_type": "code",
   "execution_count": 196,
   "metadata": {},
   "outputs": [
    {
     "name": "stdout",
     "output_type": "stream",
     "text": [
      "te_xun.csv\n",
      "           gene1      gene2     gene3      gene4      gene5      gene6  \\\n",
      "Pat03   0.423672  11.349284  0.479430   9.926252  23.168080   1.277639   \n",
      "Pat28   0.677110  34.613793  0.294675  12.827103  35.033630   4.919835   \n",
      "Pat49   1.084989  15.863534  0.258371  16.475945  40.957265   1.602234   \n",
      "Pat38   0.272135  17.157354  0.184135  34.860374  41.482285  12.017714   \n",
      "Pat02   0.297357   6.906578  0.152635  17.407315  37.292708   6.656415   \n",
      "Pat118  2.163818  14.388787  0.631081   7.674412  31.249620   7.233839   \n",
      "Pat36   0.327394  29.165064  0.520166  11.338593  34.583755   0.517158   \n",
      "Pat43   0.966011  15.781033  0.299822  18.233375  36.627173   3.285748   \n",
      "\n",
      "            gene7      gene8      gene9    gene10  ...  gene22946  gene22947  \\\n",
      "Pat03   86.309893  15.897700  64.521477  0.872070  ...  11.670901   2.591405   \n",
      "Pat28   18.941887   0.067197  14.813769  2.363295  ...  13.372190   0.957363   \n",
      "Pat49   36.210708   2.553129  27.195108  2.331151  ...  13.135285   3.612381   \n",
      "Pat38   22.644481   0.112938  21.181294  2.036922  ...  20.547149   1.109686   \n",
      "Pat02   16.002206   0.008702   5.801628  4.902427  ...  21.496052   1.898076   \n",
      "Pat118  53.350106   0.000000  25.077614  0.590482  ...   7.906757   0.845575   \n",
      "Pat36   11.128665   0.284682  11.648616  0.357004  ...  24.894672   1.188797   \n",
      "Pat43   25.089390   0.008546  15.776119  0.919058  ...  10.574259   5.189535   \n",
      "\n",
      "        gene22948  gene22949  gene22950  gene22951   gene22952  gene22953  \\\n",
      "Pat03   20.941107   0.036089  15.959761   9.967900  100.167561  10.764935   \n",
      "Pat28    0.337985   0.299985  26.847456   7.701525   75.752356  13.753378   \n",
      "Pat49    1.926245   0.307872  24.388125   5.183494  101.168860  15.618500   \n",
      "Pat38    3.957438   0.165164  32.017004  24.171727  258.306678  21.100970   \n",
      "Pat02   20.141708   0.093767  16.531101   6.154802   36.798410  14.608946   \n",
      "Pat118   2.669265   0.132478  10.570222   6.107097   94.443491   9.986855   \n",
      "Pat36    0.346039   0.001826  46.872362   2.410665   44.563954  27.242682   \n",
      "Pat43    4.341607   0.078937  12.771442   5.278847   70.246679   9.003320   \n",
      "\n",
      "        gene22954  label  \n",
      "Pat03   13.696812      0  \n",
      "Pat28   48.112015      0  \n",
      "Pat49    9.522558      0  \n",
      "Pat38   24.193487      1  \n",
      "Pat02   40.031494      0  \n",
      "Pat118   6.006904      0  \n",
      "Pat36   30.864689      0  \n",
      "Pat43   14.869373      0  \n",
      "\n",
      "[8 rows x 22955 columns]\n"
     ]
    }
   ],
   "source": [
    "import pandas as pd\n",
    "\n",
    "base_path = 'data(li)delete10/训练/'\n",
    "new_path = 'data(li)delete10/训练/'\n",
    "# 将 filelist 替换为 exp.csv\n",
    "filename = 'te_xun.csv'\n",
    "\n",
    "KEGG_info = pd.read_csv(\"训练/KEGG_Pathway_information.csv\", header=0)\n",
    "\n",
    "all_gene_list = []\n",
    "for gene_set in KEGG_info['gene_name']:\n",
    "    all_gene_list.extend(gene_set.split(\"/\"))\n",
    "\n",
    "# 读取 exp.csv 文件\n",
    "print(filename)\n",
    "data_RNA = pd.read_csv(base_path + filename,index_col=0)  # 使用 read_csv 读取 CSV 文件\n",
    "KEGG_data_dict = dict()\n",
    "gene_num = 1\n",
    "for gene in all_gene_list:\n",
    "    if gene in data_RNA.columns:  # 检查基因是否在数据框中\n",
    "        KEGG_data_dict['gene' + str(gene_num)] = data_RNA[gene]\n",
    "        gene_num += 1\n",
    "\n",
    "KEGG_data_dict['label'] = data_RNA['label']  # 假设 'label' 列在数据框中\n",
    "data_KEGG = pd.DataFrame(KEGG_data_dict)\n",
    "print(data_KEGG)\n",
    "data_KEGG.to_pickle(new_path + filename.replace('.csv', '.pkl'))  # 保存为 pkl 文件"
   ]
  },
  {
   "cell_type": "code",
   "execution_count": 197,
   "metadata": {},
   "outputs": [
    {
     "name": "stdout",
     "output_type": "stream",
     "text": [
      "******************** test for TCGA ********************\n"
     ]
    },
    {
     "name": "stderr",
     "output_type": "stream",
     "text": [
      "d:\\比较方法\\比较方法\\BPformer（新数据）\\utils.py:107: FutureWarning: You are using `torch.load` with `weights_only=False` (the current default value), which uses the default pickle module implicitly. It is possible to construct malicious pickle data which will execute arbitrary code during unpickling (See https://github.com/pytorch/pytorch/blob/main/SECURITY.md#untrusted-models for more details). In a future release, the default value for `weights_only` will be flipped to `True`. This limits the functions that could be executed during unpickling. Arbitrary objects will no longer be allowed to be loaded via this mode unless they are explicitly allowlisted by the user via `torch.serialization.add_safe_globals`. We recommend you start setting `weights_only=True` for any use case where you don't have full control of the loaded file. Please open an issue on GitHub for any issues related to this experimental feature.\n",
      "  model.load_state_dict(torch.load(path_weight))\n"
     ]
    },
    {
     "name": "stdout",
     "output_type": "stream",
     "text": [
      "test: 8\n",
      "x_mRNA shape: torch.Size([8, 1, 22954])\n",
      "y_label: ('0', '0', '0', '1', '0', '0', '0', '0')\n"
     ]
    }
   ],
   "source": [
    "import pandas as pd\n",
    "import torch\n",
    "from model import Pathway_Guided_Transformer\n",
    "from utils import test_TCGA, test_ICGC, test_GEO_p_m, test_GEO_m, test_GEO_p\n",
    "\n",
    "# Test data path\n",
    "test_data_path = 'data(li)delete10/训练/'\n",
    "path_test_data_TCGA = test_data_path + 'te_xun.pkl'\n",
    "# Model weight file\n",
    "path_weight = 'data(li)delete10\\\\Model_weight\\\\weights_2.pth'\n",
    "\n",
    "# prediction result\n",
    "prediction_path = 'data(li)delete10/训练/'\n",
    "TCGA_prediction = prediction_path + 'prediction.csv'\n",
    "\n",
    "device = torch.device('cuda' if torch.cuda.is_available() else 'cpu')\n",
    "batch_size = 64\n",
    "pathway_df = pd.read_csv('RNAseq/KEGG_Pathway_information.csv', header=0)\n",
    "pathway_num = list(pathway_df['count'])\n",
    "model = Pathway_Guided_Transformer(\n",
    "        num_classes = 2,\n",
    "        pathway_number = pathway_num,\n",
    "        dim = 512,\n",
    "        depth = 6,\n",
    "        heads = 8,\n",
    "        mlp_dim = 1024,\n",
    "        dropout = 0.1,\n",
    "        emb_dropout = 0.1,\n",
    "    ).to(device)\n",
    "print(\"*\"*20, \"test for TCGA\", \"*\"*20)\n",
    "TCGA_acc = test_TCGA(path_test_data_TCGA,  path_weight, TCGA_prediction, model, batch_size, device)"
   ]
  },
  {
   "cell_type": "code",
   "execution_count": 198,
   "metadata": {},
   "outputs": [],
   "source": [
    "\n",
    "\n",
    "# Test data path\n",
    "test_data_path = 'data(li)delete10/外部测试/'\n",
    "path_test_data_TCGA = test_data_path + 'test.pkl'\n"
   ]
  },
  {
   "cell_type": "code",
   "execution_count": 199,
   "metadata": {},
   "outputs": [],
   "source": [
    "# Model weight file\n",
    "path_weight = 'data(li)delete10\\\\Model_weight\\\\weights_2.pth'\n",
    "\n",
    "# prediction result\n",
    "prediction_path = 'data(li)delete10/外部测试/'\n",
    "TCGA_prediction = prediction_path + 'prediction.csv'\n",
    "\n",
    "device = torch.device('cuda' if torch.cuda.is_available() else 'cpu')\n",
    "batch_size = 64\n",
    "pathway_df = pd.read_csv('RNAseq/KEGG_Pathway_information.csv', header=0)\n",
    "pathway_num = list(pathway_df['count'])\n"
   ]
  },
  {
   "cell_type": "code",
   "execution_count": 200,
   "metadata": {},
   "outputs": [
    {
     "name": "stdout",
     "output_type": "stream",
     "text": [
      "******************** test for TCGA ********************\n"
     ]
    },
    {
     "name": "stderr",
     "output_type": "stream",
     "text": [
      "d:\\比较方法\\比较方法\\BPformer（新数据）\\utils.py:107: FutureWarning: You are using `torch.load` with `weights_only=False` (the current default value), which uses the default pickle module implicitly. It is possible to construct malicious pickle data which will execute arbitrary code during unpickling (See https://github.com/pytorch/pytorch/blob/main/SECURITY.md#untrusted-models for more details). In a future release, the default value for `weights_only` will be flipped to `True`. This limits the functions that could be executed during unpickling. Arbitrary objects will no longer be allowed to be loaded via this mode unless they are explicitly allowlisted by the user via `torch.serialization.add_safe_globals`. We recommend you start setting `weights_only=True` for any use case where you don't have full control of the loaded file. Please open an issue on GitHub for any issues related to this experimental feature.\n",
      "  model.load_state_dict(torch.load(path_weight))\n"
     ]
    },
    {
     "name": "stdout",
     "output_type": "stream",
     "text": [
      "test: 16\n",
      "x_mRNA shape: torch.Size([16, 1, 22954])\n",
      "y_label: ('0', '0', '0', '0', '1', '0', '0', '1', '0', '0', '0', '1', '0', '0', '1', '0')\n"
     ]
    }
   ],
   "source": [
    "print(\"*\"*20, \"test for TCGA\", \"*\"*20)\n",
    "TCGA_acc = test_TCGA(path_test_data_TCGA,  path_weight, TCGA_prediction, model, batch_size, device)"
   ]
  }
 ],
 "metadata": {
  "kernelspec": {
   "display_name": "deep",
   "language": "python",
   "name": "python3"
  },
  "language_info": {
   "codemirror_mode": {
    "name": "ipython",
    "version": 3
   },
   "file_extension": ".py",
   "mimetype": "text/x-python",
   "name": "python",
   "nbconvert_exporter": "python",
   "pygments_lexer": "ipython3",
   "version": "3.10.16"
  }
 },
 "nbformat": 4,
 "nbformat_minor": 2
}
